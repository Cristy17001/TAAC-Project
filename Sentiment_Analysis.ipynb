{
 "cells": [
  {
   "cell_type": "code",
   "execution_count": 4,
   "metadata": {},
   "outputs": [
    {
     "name": "stdout",
     "output_type": "stream",
     "text": [
      "{'children': 0, 'comics_graphics': 1, 'fantasy_paranormal': 2, 'history_biography': 3, 'mystery_thriller_crime': 4, 'poetry': 5, 'romance': 6, 'young_adult': 7}\n"
     ]
    },
    {
     "name": "stderr",
     "output_type": "stream",
     "text": [
      "Some weights of BertForSequenceClassification were not initialized from the model checkpoint at bert-base-uncased and are newly initialized: ['classifier.bias', 'classifier.weight']\n",
      "You should probably TRAIN this model on a down-stream task to be able to use it for predictions and inference.\n",
      "/home/joao/anaconda3/lib/python3.11/site-packages/transformers/training_args.py:1545: FutureWarning: `evaluation_strategy` is deprecated and will be removed in version 4.46 of 🤗 Transformers. Use `eval_strategy` instead\n",
      "  warnings.warn(\n"
     ]
    },
    {
     "data": {
      "application/vnd.jupyter.widget-view+json": {
       "model_id": "268c593d3f314e16bf64150fa0ac3fc0",
       "version_major": 2,
       "version_minor": 0
      },
      "text/plain": [
       "  0%|          | 0/1200 [00:00<?, ?it/s]"
      ]
     },
     "metadata": {},
     "output_type": "display_data"
    },
    {
     "data": {
      "application/vnd.jupyter.widget-view+json": {
       "model_id": "6325bc6ff50b4c35ad621e9e5da92421",
       "version_major": 2,
       "version_minor": 0
      },
      "text/plain": [
       "  0%|          | 0/50 [00:00<?, ?it/s]"
      ]
     },
     "metadata": {},
     "output_type": "display_data"
    },
    {
     "name": "stdout",
     "output_type": "stream",
     "text": [
      "{'eval_loss': 1.1424968242645264, 'eval_accuracy': 0.58875, 'eval_f1': 0.5750773140505129, 'eval_precision': 0.6081498281139622, 'eval_recall': 0.58875, 'eval_runtime': 1559.9385, 'eval_samples_per_second': 0.513, 'eval_steps_per_second': 0.032, 'epoch': 1.0}\n",
      "{'loss': 1.3574, 'grad_norm': 20.08745574951172, 'learning_rate': 2.916666666666667e-05, 'epoch': 1.25}\n"
     ]
    },
    {
     "data": {
      "application/vnd.jupyter.widget-view+json": {
       "model_id": "4bbdc61e7c8d44e88dabd0b1fa5aca9a",
       "version_major": 2,
       "version_minor": 0
      },
      "text/plain": [
       "  0%|          | 0/50 [00:00<?, ?it/s]"
      ]
     },
     "metadata": {},
     "output_type": "display_data"
    },
    {
     "name": "stdout",
     "output_type": "stream",
     "text": [
      "{'eval_loss': 1.128549337387085, 'eval_accuracy': 0.61875, 'eval_f1': 0.626794372425924, 'eval_precision': 0.6528190632928826, 'eval_recall': 0.61875, 'eval_runtime': 1404.6505, 'eval_samples_per_second': 0.57, 'eval_steps_per_second': 0.036, 'epoch': 2.0}\n",
      "{'loss': 0.7288, 'grad_norm': 23.136972427368164, 'learning_rate': 8.333333333333334e-06, 'epoch': 2.5}\n"
     ]
    },
    {
     "data": {
      "application/vnd.jupyter.widget-view+json": {
       "model_id": "6cd98a1a36d54e49af3292a113785431",
       "version_major": 2,
       "version_minor": 0
      },
      "text/plain": [
       "  0%|          | 0/50 [00:00<?, ?it/s]"
      ]
     },
     "metadata": {},
     "output_type": "display_data"
    },
    {
     "name": "stdout",
     "output_type": "stream",
     "text": [
      "{'eval_loss': 1.2547473907470703, 'eval_accuracy': 0.60625, 'eval_f1': 0.609941430014343, 'eval_precision': 0.6159098158657481, 'eval_recall': 0.60625, 'eval_runtime': 1433.6207, 'eval_samples_per_second': 0.558, 'eval_steps_per_second': 0.035, 'epoch': 3.0}\n",
      "{'train_runtime': 62429.4307, 'train_samples_per_second': 0.154, 'train_steps_per_second': 0.019, 'train_loss': 0.9554873402913412, 'epoch': 3.0}\n"
     ]
    },
    {
     "data": {
      "application/vnd.jupyter.widget-view+json": {
       "model_id": "0de8d984a9134e7e94763bc854f1db8f",
       "version_major": 2,
       "version_minor": 0
      },
      "text/plain": [
       "  0%|          | 0/50 [00:00<?, ?it/s]"
      ]
     },
     "metadata": {},
     "output_type": "display_data"
    },
    {
     "name": "stdout",
     "output_type": "stream",
     "text": [
      "Evaluation results: {'eval_loss': 1.2547473907470703, 'eval_accuracy': 0.60625, 'eval_f1': 0.609941430014343, 'eval_precision': 0.6159098158657481, 'eval_recall': 0.60625, 'eval_runtime': 1454.0888, 'eval_samples_per_second': 0.55, 'eval_steps_per_second': 0.034, 'epoch': 3.0}\n"
     ]
    }
   ],
   "source": [
    "import pandas as pd\n",
    "import torch\n",
    "from sklearn.preprocessing import LabelEncoder\n",
    "from transformers import BertTokenizer, BertForSequenceClassification, Trainer, TrainingArguments\n",
    "from sklearn.model_selection import train_test_split\n",
    "from sklearn.metrics import precision_recall_fscore_support, accuracy_score\n",
    "from torch.utils.data import Dataset\n",
    "\n",
    "# Load the dataset\n",
    "data = pd.read_csv('filtered_data_.csv')\n",
    "data = data.dropna(subset=['review_text'])\n",
    "\n",
    "# Encode the target labels (categories/genres)\n",
    "label_encoder = LabelEncoder()\n",
    "data['label'] = label_encoder.fit_transform(data['type'])\n",
    "\n",
    "# Check the mapping from labels to original categories\n",
    "label_mapping = dict(zip(label_encoder.classes_, label_encoder.transform(label_encoder.classes_)))\n",
    "print(label_mapping)\n",
    "\n",
    "# Sample a smaller subset of the data\n",
    "data_sampled = data.sample(frac=0.1, random_state=42)  # Use 10% of the data\n",
    "\n",
    "# Load pre-trained BERT tokenizer\n",
    "tokenizer = BertTokenizer.from_pretrained('bert-base-uncased')\n",
    "\n",
    "# Tokenize the reviews\n",
    "def tokenize_function(text):\n",
    "    return tokenizer(text, padding='max_length', truncation=True, return_tensors='pt')\n",
    "\n",
    "# Define Trainer object\n",
    "# Ensure labels are of type torch.long\n",
    "class ReviewsDataset(Dataset):\n",
    "    def __init__(self, reviews, labels):\n",
    "        self.reviews = reviews\n",
    "        self.labels = labels\n",
    "\n",
    "    def __len__(self):\n",
    "        return len(self.reviews)\n",
    "\n",
    "    def __getitem__(self, idx):\n",
    "        # Tokenize the review text at each index\n",
    "        tokenized_review = tokenize_function(self.reviews.iloc[idx])\n",
    "        \n",
    "        # Extract input_ids and attention_mask from the tokenized review\n",
    "        input_ids = tokenized_review['input_ids'].squeeze(0)\n",
    "        attention_mask = tokenized_review['attention_mask'].squeeze(0)\n",
    "\n",
    "        # Get the corresponding label for the review and ensure it's of type torch.long\n",
    "        label = torch.tensor(self.labels.iloc[idx], dtype=torch.long)\n",
    "\n",
    "        return {\n",
    "            'input_ids': input_ids,\n",
    "            'attention_mask': attention_mask,\n",
    "            'labels': label\n",
    "        }\n",
    "    \n",
    "# Split the dataset into training and testing sets\n",
    "X_train, X_test, y_train, y_test = train_test_split(data_sampled['review_text'], data_sampled['label'], test_size=0.2, random_state=42)\n",
    "\n",
    "# Create the training and testing datasets using the custom Dataset class\n",
    "train_dataset = ReviewsDataset(X_train, y_train)\n",
    "test_dataset = ReviewsDataset(X_test, y_test)\n",
    "\n",
    "# Load pre-trained BERT model with a classification head (set the number of classes)\n",
    "num_labels = len(data_sampled['label'].unique())  # Number of unique genres\n",
    "model = BertForSequenceClassification.from_pretrained('bert-base-uncased', num_labels=num_labels)\n",
    "\n",
    "# Define training arguments\n",
    "training_args = TrainingArguments(\n",
    "    output_dir='./results',           # output directory\n",
    "    evaluation_strategy='epoch',      # evaluate during training\n",
    "    per_device_train_batch_size=8,    # batch size for training\n",
    "    per_device_eval_batch_size=16,    # batch size for evaluation\n",
    "    num_train_epochs=3,               # number of training epochs\n",
    "    weight_decay=0.01,                # strength of weight decay\n",
    ")\n",
    "\n",
    "def compute_metrics(pred):\n",
    "    logits, labels = pred\n",
    "    logits = torch.tensor(logits)  # Convert logits to tensor if they are not already\n",
    "    predictions = torch.argmax(logits, axis=1)\n",
    "\n",
    "    accuracy = accuracy_score(labels, predictions)\n",
    "    precision, recall, f1, _ = precision_recall_fscore_support(labels, predictions, average='weighted')\n",
    "\n",
    "    return {\n",
    "        'accuracy': accuracy,\n",
    "        'f1': f1,\n",
    "        'precision': precision,\n",
    "        'recall': recall\n",
    "    }\n",
    "\n",
    "trainer = Trainer(\n",
    "    model=model,\n",
    "    args=training_args,\n",
    "    train_dataset=train_dataset,\n",
    "    eval_dataset=test_dataset,\n",
    "    compute_metrics = compute_metrics\n",
    ")\n",
    "\n",
    "# Train the model\n",
    "trainer.train()\n",
    "\n",
    "results = trainer.evaluate()\n",
    "print(f\"Evaluation results: {results}\")"
   ]
  },
  {
   "cell_type": "code",
   "execution_count": 6,
   "metadata": {},
   "outputs": [
    {
     "name": "stdout",
     "output_type": "stream",
     "text": [
      "      Metric     Score\n",
      "0   accuracy  0.606250\n",
      "1         f1  0.609941\n",
      "2  precision  0.615910\n",
      "3     recall  0.606250\n"
     ]
    }
   ],
   "source": [
    "import pandas as pd\n",
    "\n",
    "# Extract evaluation metrics\n",
    "metrics = ['accuracy', 'f1', 'precision', 'recall']\n",
    "scores = [results[f'eval_{metric}'] for metric in metrics]\n",
    "\n",
    "# Create a DataFrame to display metrics\n",
    "metrics_df = pd.DataFrame({\n",
    "    \"Metric\": metrics,\n",
    "    \"Score\": scores\n",
    "})\n",
    "\n",
    "# Display the table\n",
    "print(metrics_df)\n"
   ]
  },
  {
   "cell_type": "code",
   "execution_count": 7,
   "metadata": {},
   "outputs": [
    {
     "name": "stdout",
     "output_type": "stream",
     "text": [
      "Review: This book was full of fantasy and magic. -> Predicted Genre: fantasy_paranormal\n",
      "Review: The story was thrilling and action-packed. -> Predicted Genre: comics_graphics\n"
     ]
    }
   ],
   "source": [
    "# Example of new reviews\n",
    "new_reviews = [\"This book was full of fantasy and magic.\", \n",
    "               \"The story was thrilling and action-packed.\"]\n",
    "\n",
    "# Tokenize the new reviews\n",
    "new_inputs = tokenizer(new_reviews, padding='max_length', truncation=True, return_tensors='pt')\n",
    "\n",
    "# Predict the genre\n",
    "outputs = model(**new_inputs)\n",
    "predictions = torch.argmax(outputs.logits, dim=-1)\n",
    "\n",
    "# Convert predictions back to genre labels\n",
    "predicted_genres = label_encoder.inverse_transform(predictions)\n",
    "\n",
    "# Display the predicted genres\n",
    "for review, genre in zip(new_reviews, predicted_genres):\n",
    "    print(f\"Review: {review} -> Predicted Genre: {genre}\")"
   ]
  },
  {
   "cell_type": "code",
   "execution_count": null,
   "metadata": {},
   "outputs": [],
   "source": []
  }
 ],
 "metadata": {
  "kernelspec": {
   "display_name": "base",
   "language": "python",
   "name": "python3"
  },
  "language_info": {
   "codemirror_mode": {
    "name": "ipython",
    "version": 3
   },
   "file_extension": ".py",
   "mimetype": "text/x-python",
   "name": "python",
   "nbconvert_exporter": "python",
   "pygments_lexer": "ipython3",
   "version": "3.11.7"
  }
 },
 "nbformat": 4,
 "nbformat_minor": 2
}
