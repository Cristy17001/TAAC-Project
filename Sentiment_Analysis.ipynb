{
 "cells": [
  {
   "cell_type": "code",
   "execution_count": 1,
   "metadata": {},
   "outputs": [
    {
     "name": "stderr",
     "output_type": "stream",
     "text": [
      "C:\\Users\\jmlim\\AppData\\Local\\Packages\\PythonSoftwareFoundation.Python.3.11_qbz5n2kfra8p0\\LocalCache\\local-packages\\Python311\\site-packages\\tqdm\\auto.py:21: TqdmWarning: IProgress not found. Please update jupyter and ipywidgets. See https://ipywidgets.readthedocs.io/en/stable/user_install.html\n",
      "  from .autonotebook import tqdm as notebook_tqdm\n"
     ]
    },
    {
     "name": "stdout",
     "output_type": "stream",
     "text": [
      "WARNING:tensorflow:From C:\\Users\\jmlim\\AppData\\Local\\Packages\\PythonSoftwareFoundation.Python.3.11_qbz5n2kfra8p0\\LocalCache\\local-packages\\Python311\\site-packages\\tf_keras\\src\\losses.py:2976: The name tf.losses.sparse_softmax_cross_entropy is deprecated. Please use tf.compat.v1.losses.sparse_softmax_cross_entropy instead.\n",
      "\n"
     ]
    }
   ],
   "source": [
    "import pandas as pd\n",
    "import torch\n",
    "import seaborn as sns\n",
    "import matplotlib.pyplot as plt\n",
    "\n",
    "from sklearn.preprocessing import LabelEncoder\n",
    "from transformers import BertTokenizer, BertForSequenceClassification, Trainer, TrainingArguments\n",
    "from sklearn.model_selection import train_test_split\n",
    "from sklearn.metrics import precision_recall_fscore_support, accuracy_score,confusion_matrix\n",
    "from torch.utils.data import Dataset"
   ]
  },
  {
   "cell_type": "code",
   "execution_count": null,
   "metadata": {},
   "outputs": [
    {
     "name": "stdout",
     "output_type": "stream",
     "text": [
      "{'children': 0, 'comics_graphics': 1, 'fantasy_paranormal': 2, 'history_biography': 3, 'mystery_thriller_crime': 4, 'poetry': 5, 'romance': 6, 'young_adult': 7}\n"
     ]
    },
    {
     "name": "stderr",
     "output_type": "stream",
     "text": [
      "Some weights of BertForSequenceClassification were not initialized from the model checkpoint at bert-base-uncased and are newly initialized: ['classifier.bias', 'classifier.weight']\n",
      "You should probably TRAIN this model on a down-stream task to be able to use it for predictions and inference.\n"
     ]
    }
   ],
   "source": [
    "# Load the dataset\n",
    "data = pd.read_csv('filtered_data_equalRating_dist.csv')\n",
    "data = data.dropna(subset=['review_text'])\n",
    "\n",
    "# Define genres and sample 150 reviews per genre for balance\n",
    "dfs = []\n",
    "generos = ['children','comics_graphics','fantasy_paranormal','history_biography','mystery_thriller_crime','poetry','romance','young_adult']\n",
    "\n",
    "for genero in generos:\n",
    "    dfs.append(data[data['type'] == genero].sample(n=150, random_state=1))\n",
    "df_sampled = pd.concat(dfs).reset_index(drop=True)\n",
    "\n",
    "# Encode the target labels (categories/genres)\n",
    "label_encoder = LabelEncoder()\n",
    "df_sampled['label'] = label_encoder.fit_transform(df_sampled['type'])\n",
    "\n",
    "# Check the mapping from labels to original categories\n",
    "label_mapping = dict(zip(label_encoder.classes_, label_encoder.transform(label_encoder.classes_)))\n",
    "print(label_mapping)\n",
    "\n",
    "# Load pre-trained BERT tokenizer\n",
    "tokenizer = BertTokenizer.from_pretrained('bert-base-uncased')\n",
    "\n",
    "# Tokenization function for reviews\n",
    "def tokenize_function(text):\n",
    "    return tokenizer(text, padding='max_length', truncation=True, return_tensors='pt')\n",
    "\n",
    "# Dataset class for BERT inputs\n",
    "class ReviewsDataset(Dataset):\n",
    "    def __init__(self, reviews, labels):\n",
    "        self.reviews = reviews\n",
    "        self.labels = labels\n",
    "\n",
    "    def __len__(self):\n",
    "        return len(self.reviews)\n",
    "\n",
    "    def __getitem__(self, idx):\n",
    "        tokenized_review = tokenize_function(self.reviews.iloc[idx])\n",
    "        \n",
    "        input_ids = tokenized_review['input_ids'].squeeze(0)\n",
    "        attention_mask = tokenized_review['attention_mask'].squeeze(0)\n",
    "\n",
    "        label = torch.tensor(self.labels.iloc[idx], dtype=torch.long)\n",
    "\n",
    "        return {\n",
    "            'input_ids': input_ids,\n",
    "            'attention_mask': attention_mask,\n",
    "            'labels': label\n",
    "        }\n",
    "    \n",
    "# Split the dataset into training and testing sets\n",
    "X_train, X_test, y_train, y_test = train_test_split(df_sampled['review_text'], df_sampled['label'], test_size=0.2, random_state=42)\n",
    "\n",
    "# Create the training and testing datasets using the custom Dataset class\n",
    "train_dataset = ReviewsDataset(X_train, y_train)\n",
    "test_dataset = ReviewsDataset(X_test, y_test)\n",
    "\n",
    "# Load pre-trained BERT model with a classification head\n",
    "num_labels = len(df_sampled['label'].unique())  \n",
    "model = BertForSequenceClassification.from_pretrained('bert-base-uncased', num_labels=num_labels)"
   ]
  },
  {
   "cell_type": "code",
   "execution_count": null,
   "metadata": {},
   "outputs": [
    {
     "name": "stdout",
     "output_type": "stream",
     "text": [
      "{'children': 0, 'comics_graphics': 1, 'fantasy_paranormal': 2, 'history_biography': 3, 'mystery_thriller_crime': 4, 'poetry': 5, 'romance': 6, 'young_adult': 7}\n"
     ]
    },
    {
     "name": "stderr",
     "output_type": "stream",
     "text": [
      "Some weights of BertForSequenceClassification were not initialized from the model checkpoint at bert-base-uncased and are newly initialized: ['classifier.bias', 'classifier.weight']\n",
      "You should probably TRAIN this model on a down-stream task to be able to use it for predictions and inference.\n",
      "/home/joao/anaconda3/lib/python3.11/site-packages/transformers/training_args.py:1545: FutureWarning: `evaluation_strategy` is deprecated and will be removed in version 4.46 of 🤗 Transformers. Use `eval_strategy` instead\n",
      "  warnings.warn(\n"
     ]
    },
    {
     "data": {
      "application/vnd.jupyter.widget-view+json": {
       "model_id": "2081fcf6475c4ea284539e67ebd86ca4",
       "version_major": 2,
       "version_minor": 0
      },
      "text/plain": [
       "  0%|          | 0/360 [00:00<?, ?it/s]"
      ]
     },
     "metadata": {},
     "output_type": "display_data"
    },
    {
     "data": {
      "application/vnd.jupyter.widget-view+json": {
       "model_id": "6ffebd0db363477494e9e730437857c4",
       "version_major": 2,
       "version_minor": 0
      },
      "text/plain": [
       "  0%|          | 0/15 [00:00<?, ?it/s]"
      ]
     },
     "metadata": {},
     "output_type": "display_data"
    },
    {
     "name": "stderr",
     "output_type": "stream",
     "text": [
      "/home/joao/anaconda3/lib/python3.11/site-packages/sklearn/metrics/_classification.py:1509: UndefinedMetricWarning: Precision is ill-defined and being set to 0.0 in labels with no predicted samples. Use `zero_division` parameter to control this behavior.\n",
      "  _warn_prf(average, modifier, f\"{metric.capitalize()} is\", len(result))\n"
     ]
    },
    {
     "name": "stdout",
     "output_type": "stream",
     "text": [
      "{'eval_loss': 1.794196605682373, 'eval_accuracy': 0.36666666666666664, 'eval_f1': 0.3348565141806734, 'eval_precision': 0.48654493376297897, 'eval_recall': 0.36666666666666664, 'eval_runtime': 999.6598, 'eval_samples_per_second': 0.24, 'eval_steps_per_second': 0.015, 'epoch': 1.0}\n"
     ]
    },
    {
     "data": {
      "application/vnd.jupyter.widget-view+json": {
       "model_id": "c9c5c199a06a4716822cad797916d2e1",
       "version_major": 2,
       "version_minor": 0
      },
      "text/plain": [
       "  0%|          | 0/15 [00:00<?, ?it/s]"
      ]
     },
     "metadata": {},
     "output_type": "display_data"
    },
    {
     "name": "stdout",
     "output_type": "stream",
     "text": [
      "{'eval_loss': 1.4939755201339722, 'eval_accuracy': 0.4708333333333333, 'eval_f1': 0.4663887206782616, 'eval_precision': 0.48587698412698416, 'eval_recall': 0.4708333333333333, 'eval_runtime': 774.8525, 'eval_samples_per_second': 0.31, 'eval_steps_per_second': 0.019, 'epoch': 2.0}\n"
     ]
    },
    {
     "data": {
      "application/vnd.jupyter.widget-view+json": {
       "model_id": "162ed1e3525f4c64a29a9f02fb1c082c",
       "version_major": 2,
       "version_minor": 0
      },
      "text/plain": [
       "  0%|          | 0/15 [00:00<?, ?it/s]"
      ]
     },
     "metadata": {},
     "output_type": "display_data"
    },
    {
     "name": "stdout",
     "output_type": "stream",
     "text": [
      "{'eval_loss': 1.4710792303085327, 'eval_accuracy': 0.44166666666666665, 'eval_f1': 0.4406458548331614, 'eval_precision': 0.455843253968254, 'eval_recall': 0.44166666666666665, 'eval_runtime': 523.1339, 'eval_samples_per_second': 0.459, 'eval_steps_per_second': 0.029, 'epoch': 3.0}\n",
      "{'train_runtime': 40697.8772, 'train_samples_per_second': 0.071, 'train_steps_per_second': 0.009, 'train_loss': 1.5699705335828993, 'epoch': 3.0}\n"
     ]
    },
    {
     "data": {
      "application/vnd.jupyter.widget-view+json": {
       "model_id": "b5dfc074c20b44f68e140935bdb101ca",
       "version_major": 2,
       "version_minor": 0
      },
      "text/plain": [
       "  0%|          | 0/15 [00:00<?, ?it/s]"
      ]
     },
     "metadata": {},
     "output_type": "display_data"
    },
    {
     "name": "stdout",
     "output_type": "stream",
     "text": [
      "Evaluation results: {'eval_loss': 1.4710792303085327, 'eval_accuracy': 0.44166666666666665, 'eval_f1': 0.4406458548331614, 'eval_precision': 0.455843253968254, 'eval_recall': 0.44166666666666665, 'eval_runtime': 514.1665, 'eval_samples_per_second': 0.467, 'eval_steps_per_second': 0.029, 'epoch': 3.0}\n"
     ]
    },
    {
     "data": {
      "text/plain": [
       "('./saved_model/tokenizer_config.json',\n",
       " './saved_model/special_tokens_map.json',\n",
       " './saved_model/vocab.txt',\n",
       " './saved_model/added_tokens.json')"
      ]
     },
     "execution_count": 1,
     "metadata": {},
     "output_type": "execute_result"
    }
   ],
   "source": [
    "# Training arguments\n",
    "training_args = TrainingArguments(\n",
    "    output_dir='./results',           # output directory\n",
    "    evaluation_strategy='epoch',      # evaluate during training\n",
    "    per_device_train_batch_size=8,    # batch size for training\n",
    "    per_device_eval_batch_size=16,    # batch size for evaluation\n",
    "    num_train_epochs=3,               # number of training epochs\n",
    "    weight_decay=0.01,                # strength of weight decay\n",
    ")\n",
    "\n",
    "# Metric computation function\n",
    "def compute_metrics(pred):\n",
    "    logits, labels = pred\n",
    "    logits = torch.tensor(logits)  \n",
    "    predictions = torch.argmax(logits, axis=1)\n",
    "\n",
    "    accuracy = accuracy_score(labels, predictions)\n",
    "    precision, recall, f1, _ = precision_recall_fscore_support(labels, predictions, average='weighted')\n",
    "\n",
    "    return {\n",
    "        'accuracy': accuracy,\n",
    "        'f1': f1,\n",
    "        'precision': precision,\n",
    "        'recall': recall\n",
    "    }\n",
    "\n",
    "trainer = Trainer(\n",
    "    model=model,\n",
    "    args=training_args,\n",
    "    train_dataset=train_dataset,\n",
    "    eval_dataset=test_dataset,\n",
    "    compute_metrics = compute_metrics\n",
    ")\n",
    "\n",
    "# Train the model\n",
    "trainer.train()\n",
    "\n",
    "results = trainer.evaluate()\n",
    "print(f\"Evaluation results: {results}\")\n",
    "\n",
    "# Specify a directory to save the model\n",
    "model_save_path = './saved_model'\n",
    "\n",
    "# Save the model\n",
    "model.save_pretrained(model_save_path)\n",
    "tokenizer.save_pretrained(model_save_path)"
   ]
  },
  {
   "cell_type": "code",
   "execution_count": null,
   "metadata": {},
   "outputs": [],
   "source": [
    "# Load model and tokenizer from saved directory\n",
    "model_save_path = './saved_model'\n",
    "model = BertForSequenceClassification.from_pretrained(model_save_path)\n",
    "tokenizer = BertTokenizer.from_pretrained(model_save_path)"
   ]
  },
  {
   "cell_type": "code",
   "execution_count": 8,
   "metadata": {},
   "outputs": [
    {
     "ename": "NameError",
     "evalue": "name 'df_sampled' is not defined",
     "output_type": "error",
     "traceback": [
      "\u001b[0;31m---------------------------------------------------------------------------\u001b[0m",
      "\u001b[0;31mNameError\u001b[0m                                 Traceback (most recent call last)",
      "Cell \u001b[0;32mIn[8], line 3\u001b[0m\n\u001b[1;32m      1\u001b[0m \u001b[38;5;28;01mimport\u001b[39;00m \u001b[38;5;21;01mpandas\u001b[39;00m \u001b[38;5;28;01mas\u001b[39;00m \u001b[38;5;21;01mpd\u001b[39;00m\n\u001b[0;32m----> 3\u001b[0m X_train, X_test, y_train, y_test \u001b[38;5;241m=\u001b[39m train_test_split(df_sampled[\u001b[38;5;124m'\u001b[39m\u001b[38;5;124mreview_text\u001b[39m\u001b[38;5;124m'\u001b[39m], df_sampled[\u001b[38;5;124m'\u001b[39m\u001b[38;5;124mlabel\u001b[39m\u001b[38;5;124m'\u001b[39m], test_size\u001b[38;5;241m=\u001b[39m\u001b[38;5;241m0.2\u001b[39m, random_state\u001b[38;5;241m=\u001b[39m\u001b[38;5;241m42\u001b[39m)\n\u001b[1;32m      5\u001b[0m \u001b[38;5;66;03m# Get predictions and true labels from the test set\u001b[39;00m\n\u001b[1;32m      6\u001b[0m predictions \u001b[38;5;241m=\u001b[39m trainer\u001b[38;5;241m.\u001b[39mpredict(test_dataset)\n",
      "\u001b[0;31mNameError\u001b[0m: name 'df_sampled' is not defined"
     ]
    }
   ],
   "source": [
    "import pandas as pd\n",
    "\n",
    "\n",
    "# Get predictions and true labels from the test set\n",
    "predictions = trainer.predict(test_dataset)\n",
    "pred_labels = predictions.predictions.argmax(-1)\n",
    "true_labels = predictions.label_ids\n",
    "\n",
    "# Create the confusion matrix\n",
    "conf_matrix = confusion_matrix(true_labels, pred_labels)\n",
    "\n",
    "# Plot the confusion matrix\n",
    "plt.figure(figsize=(10, 8))\n",
    "sns.heatmap(conf_matrix, annot=True, fmt=\"d\", cmap=\"Blues\", xticklabels=label_encoder.classes_, yticklabels=label_encoder.classes_)\n",
    "plt.xlabel(\"Predicted Labels\")\n",
    "plt.ylabel(\"True Labels\")\n",
    "plt.title(\"Confusion Matrix\")\n",
    "plt.show()\n",
    "\n",
    "\n",
    "# Extract evaluation metrics\n",
    "metrics = ['accuracy', 'f1', 'precision', 'recall']\n",
    "scores = [results[f'eval_{metric}'] for metric in metrics]\n",
    "\n",
    "# Create a DataFrame to display metrics\n",
    "metrics_df = pd.DataFrame({\n",
    "    \"Metric\": metrics,\n",
    "    \"Score\": scores\n",
    "})\n",
    "\n",
    "# Display the table\n",
    "print(metrics_df)\n"
   ]
  },
  {
   "cell_type": "code",
   "execution_count": null,
   "metadata": {},
   "outputs": [
    {
     "name": "stderr",
     "output_type": "stream",
     "text": [
      "100%|██████████| 1200/1200 [01:36<00:00, 12.41it/s]"
     ]
    },
    {
     "name": "stdout",
     "output_type": "stream",
     "text": [
      "Top 30 most informative words across the dataset (via attention):\n",
      "book: 1499.0237\n",
      "[CLS]: 943.2516\n",
      "read: 654.4401\n",
      "story: 544.9651\n",
      "one: 333.4082\n",
      "characters: 306.5946\n",
      "books: 304.4423\n",
      "love: 265.8392\n",
      "series: 263.4558\n",
      "poetry: 242.0753\n",
      "like: 233.4048\n",
      "poems: 207.1577\n",
      "reading: 203.2136\n",
      "graphic: 186.1834\n",
      "character: 179.2026\n",
      "first: 167.2079\n",
      "novel: 160.6282\n",
      "writing: 149.8067\n",
      "author: 144.9358\n",
      "good: 141.9385\n",
      "really: 140.4432\n",
      "plot: 139.3752\n",
      "would: 136.9780\n",
      "romance: 136.0568\n",
      "l: 135.9449\n",
      "poem: 133.2470\n",
      "de: 127.5320\n",
      "little: 121.5794\n",
      "life: 120.1989\n",
      "fy: 118.5675\n"
     ]
    },
    {
     "name": "stderr",
     "output_type": "stream",
     "text": [
      "\n"
     ]
    }
   ],
   "source": [
    "import torch\n",
    "from transformers import BertTokenizer, BertForSequenceClassification\n",
    "import numpy as np\n",
    "from tqdm import tqdm  # for progress bar\n",
    "import string\n",
    "from nltk.corpus import stopwords\n",
    "\n",
    "# Load NLTK stopwords (you may need to download the stopwords dataset first)\n",
    "stop_words = set(stopwords.words('english'))\n",
    "punctuation = set(string.punctuation)\n",
    "\n",
    "# Assume `model` and `tokenizer` are already loaded with BERT model and tokenizer\n",
    "def get_aggregate_attention_weights(dataset, top_n=30):\n",
    "    token_importance = {}\n",
    "    \n",
    "    for text in tqdm(dataset):\n",
    "        inputs = tokenizer(text, return_tensors='pt', max_length=512, truncation=True)\n",
    "        input_ids = inputs['input_ids']\n",
    "        outputs = model(input_ids, output_attentions=True)\n",
    "        attentions = outputs.attentions\n",
    "        last_layer_attention = attentions[-1].mean(dim=1).squeeze().detach().cpu().numpy()\n",
    "\n",
    "        tokens = tokenizer.convert_ids_to_tokens(input_ids.squeeze())\n",
    "        word_importance = last_layer_attention.sum(axis=0)\n",
    "\n",
    "        current_word = \"\"\n",
    "        current_importance = 0.0\n",
    "        \n",
    "        for token, importance in zip(tokens, word_importance):\n",
    "            if token.startswith(\"##\"):\n",
    "                current_word += token[2:]\n",
    "                current_importance += importance\n",
    "            else:\n",
    "                if current_word:\n",
    "                    if current_word not in stop_words and current_word not in punctuation:\n",
    "                        if current_word in token_importance:\n",
    "                            token_importance[current_word] += current_importance\n",
    "                        else:\n",
    "                            token_importance[current_word] = current_importance\n",
    "                \n",
    "                current_word = token\n",
    "                current_importance = importance\n",
    "\n",
    "    most_informative_tokens = sorted(token_importance.items(), key=lambda x: x[1], reverse=True)\n",
    "    print(f\"Top {top_n} most informative words across the dataset (via attention):\")\n",
    "    for token, importance in most_informative_tokens[:top_n]:\n",
    "        print(f\"{token}: {importance:.4f}\")\n",
    "\n",
    "# Get the top 30 most informative words across the dataset\n",
    "sample_reviews = df_sampled['review_text'].tolist()\n",
    "get_aggregate_attention_weights(sample_reviews, top_n=30)\n"
   ]
  },
  {
   "cell_type": "code",
   "execution_count": 33,
   "metadata": {},
   "outputs": [
    {
     "name": "stdout",
     "output_type": "stream",
     "text": [
      "Review: This book was full of fantasy and magic. -> Predicted Genre: fantasy_paranormal\n",
      "Review: The story was thrilling and action-packed. -> Predicted Genre: fantasy_paranormal\n"
     ]
    }
   ],
   "source": [
    "# Example of new reviews\n",
    "new_reviews = [\"This book was full of fantasy and magic.\", \n",
    "               \"The story was thrilling and action-packed.\"]\n",
    "\n",
    "# Tokenize the new reviews\n",
    "new_inputs = tokenizer(new_reviews, padding='max_length', truncation=True, return_tensors='pt')\n",
    "\n",
    "# Predict the genre\n",
    "outputs = model(**new_inputs)\n",
    "predictions = torch.argmax(outputs.logits, dim=-1)\n",
    "\n",
    "# Convert predictions back to genre labels\n",
    "predicted_genres = label_encoder.inverse_transform(predictions)\n",
    "\n",
    "# Display the predicted genres\n",
    "for review, genre in zip(new_reviews, predicted_genres):\n",
    "    print(f\"Review: {review} -> Predicted Genre: {genre}\")"
   ]
  }
 ],
 "metadata": {
  "kernelspec": {
   "display_name": "Python 3",
   "language": "python",
   "name": "python3"
  },
  "language_info": {
   "codemirror_mode": {
    "name": "ipython",
    "version": 3
   },
   "file_extension": ".py",
   "mimetype": "text/x-python",
   "name": "python",
   "nbconvert_exporter": "python",
   "pygments_lexer": "ipython3",
   "version": "3.11.9"
  }
 },
 "nbformat": 4,
 "nbformat_minor": 2
}
