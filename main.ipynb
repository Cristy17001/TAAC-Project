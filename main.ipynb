{
 "cells": [
  {
   "cell_type": "code",
   "execution_count": null,
   "metadata": {},
   "outputs": [],
   "source": [
    "import os\n",
    "import json\n",
    "import pandas as pd\n",
    "\n",
    "# directory = '.\\\\goodreads'"
   ]
  },
  {
   "cell_type": "code",
   "execution_count": null,
   "metadata": {},
   "outputs": [],
   "source": [
    "# gender_dict = {\n",
    "#     \"children\": [],\n",
    "#     \"comics_graphics\": [],\n",
    "#     \"fantasy_paranormal\": [],\n",
    "#     \"history\": [],\n",
    "#     \"young_adult\": [],\n",
    "# }\n",
    "\n",
    "# order = ['children', 'comics_graphics', 'fantasy_paranormal', 'history_biography', 'mystery_thriller_crime', 'poetry', 'romance', 'young_adult']\n",
    "# final_df = pd.DataFrame()\n",
    "\n",
    "# index = -1\n",
    "# for filename in os.listdir(directory):\n",
    "#     if filename.endswith('.json'):\n",
    "#         index+=1\n",
    "#         filename = os.path.join(directory, filename)\n",
    "#         with open(filename, 'r') as file:\n",
    "#             counter = 0\n",
    "#             jsonData = []\n",
    "#             for line in file:\n",
    "#                 counter+=1\n",
    "#                 jsonData.append(json.loads(line))\n",
    "#                 if (counter == 5000): break\n",
    "                \n",
    "#             jsonDataFrame = pd.DataFrame(jsonData)\n",
    "#             jsonDataFrame[\"type\"] = order[index]\n",
    "#             final_df = pd.concat([final_df, jsonDataFrame], axis=0)\n",
    "            \n",
    "\n",
    "\n",
    "# print(final_df)\n",
    "# final_df.to_csv('filtered_data.csv', index=False)\n",
    "\n"
   ]
  }
 ],
 "metadata": {
  "kernelspec": {
   "display_name": "Python 3",
   "language": "python",
   "name": "python3"
  },
  "language_info": {
   "codemirror_mode": {
    "name": "ipython",
    "version": 3
   },
   "file_extension": ".py",
   "mimetype": "text/x-python",
   "name": "python",
   "nbconvert_exporter": "python",
   "pygments_lexer": "ipython3",
   "version": "3.12.1"
  }
 },
 "nbformat": 4,
 "nbformat_minor": 2
}
